{
 "cells": [
  {
   "cell_type": "code",
   "execution_count": null,
   "id": "40eb1cc6",
   "metadata": {},
   "outputs": [],
   "source": [
    "# open meteo or open weather api \n",
    "\n",
    "# A definition based on the Heat Wave Duration Index \n",
    "#is that a heat wave occurs when the daily maximum temperature of \n",
    "#more than five consecutive days exceeds the average maximum temperature by 5 °C (9 °F),\n",
    "#the normal period being 1961–1990. The same definition is used by the World Meteorological Organization."
   ]
  },
  {
   "cell_type": "code",
   "execution_count": 7,
   "id": "eab9df46",
   "metadata": {},
   "outputs": [],
   "source": [
    "#Solution 1: use this api for every major city in the region\n",
    "# issues: need to get the latitude and longitude for each of them \n",
    "# cover all cases with a 1 degree granularity ?\n",
    "\n",
    "#https://open-meteo.com/en/docs/historical-weather-api#latitude=13.75&longitude=100.50&start_date=2012-12-31&end_date=2023-05-13&daily=temperature_2m_mean&timezone=Asia%2FBangkok    \n"
   ]
  },
  {
   "cell_type": "code",
   "execution_count": 19,
   "id": "456aef17",
   "metadata": {},
   "outputs": [],
   "source": [
    "import requests\n",
    "import pandas as pd\n",
    "from pandas import json_normalize\n",
    "\n",
    "iter=5\n",
    "\n",
    "lat=13\n",
    "lon=100\n",
    "\n",
    "url=f\"https://archive-api.open-meteo.com/v1/archive?latitude={lat}&longitude={lon}&start_date=1960-01-31&end_date=2023-05-13&daily=temperature_2m_max&timezone=auto\""
   ]
  },
  {
   "cell_type": "code",
   "execution_count": 20,
   "id": "3efad408",
   "metadata": {},
   "outputs": [],
   "source": [
    "response= requests.get(url)"
   ]
  },
  {
   "cell_type": "code",
   "execution_count": 40,
   "id": "c6760956",
   "metadata": {},
   "outputs": [
    {
     "data": {
      "text/html": [
       "<div>\n",
       "<style scoped>\n",
       "    .dataframe tbody tr th:only-of-type {\n",
       "        vertical-align: middle;\n",
       "    }\n",
       "\n",
       "    .dataframe tbody tr th {\n",
       "        vertical-align: top;\n",
       "    }\n",
       "\n",
       "    .dataframe thead th {\n",
       "        text-align: right;\n",
       "    }\n",
       "</style>\n",
       "<table border=\"1\" class=\"dataframe\">\n",
       "  <thead>\n",
       "    <tr style=\"text-align: right;\">\n",
       "      <th></th>\n",
       "      <th>date</th>\n",
       "      <th>max_temp</th>\n",
       "      <th>lat</th>\n",
       "      <th>lon</th>\n",
       "    </tr>\n",
       "  </thead>\n",
       "  <tbody>\n",
       "    <tr>\n",
       "      <th>0</th>\n",
       "      <td>1960-01-31</td>\n",
       "      <td>29.6</td>\n",
       "      <td>13</td>\n",
       "      <td>100</td>\n",
       "    </tr>\n",
       "    <tr>\n",
       "      <th>1</th>\n",
       "      <td>1960-02-01</td>\n",
       "      <td>30.3</td>\n",
       "      <td>13</td>\n",
       "      <td>100</td>\n",
       "    </tr>\n",
       "    <tr>\n",
       "      <th>2</th>\n",
       "      <td>1960-02-02</td>\n",
       "      <td>27.8</td>\n",
       "      <td>13</td>\n",
       "      <td>100</td>\n",
       "    </tr>\n",
       "    <tr>\n",
       "      <th>3</th>\n",
       "      <td>1960-02-03</td>\n",
       "      <td>27.7</td>\n",
       "      <td>13</td>\n",
       "      <td>100</td>\n",
       "    </tr>\n",
       "    <tr>\n",
       "      <th>4</th>\n",
       "      <td>1960-02-04</td>\n",
       "      <td>27.1</td>\n",
       "      <td>13</td>\n",
       "      <td>100</td>\n",
       "    </tr>\n",
       "    <tr>\n",
       "      <th>...</th>\n",
       "      <td>...</td>\n",
       "      <td>...</td>\n",
       "      <td>...</td>\n",
       "      <td>...</td>\n",
       "    </tr>\n",
       "    <tr>\n",
       "      <th>23109</th>\n",
       "      <td>2023-05-09</td>\n",
       "      <td>31.8</td>\n",
       "      <td>13</td>\n",
       "      <td>100</td>\n",
       "    </tr>\n",
       "    <tr>\n",
       "      <th>23110</th>\n",
       "      <td>2023-05-10</td>\n",
       "      <td>31.9</td>\n",
       "      <td>13</td>\n",
       "      <td>100</td>\n",
       "    </tr>\n",
       "    <tr>\n",
       "      <th>23111</th>\n",
       "      <td>2023-05-11</td>\n",
       "      <td>32.7</td>\n",
       "      <td>13</td>\n",
       "      <td>100</td>\n",
       "    </tr>\n",
       "    <tr>\n",
       "      <th>23112</th>\n",
       "      <td>2023-05-12</td>\n",
       "      <td>29.9</td>\n",
       "      <td>13</td>\n",
       "      <td>100</td>\n",
       "    </tr>\n",
       "    <tr>\n",
       "      <th>23113</th>\n",
       "      <td>2023-05-13</td>\n",
       "      <td>NaN</td>\n",
       "      <td>13</td>\n",
       "      <td>100</td>\n",
       "    </tr>\n",
       "  </tbody>\n",
       "</table>\n",
       "<p>23114 rows × 4 columns</p>\n",
       "</div>"
      ],
      "text/plain": [
       "             date  max_temp  lat  lon\n",
       "0      1960-01-31      29.6   13  100\n",
       "1      1960-02-01      30.3   13  100\n",
       "2      1960-02-02      27.8   13  100\n",
       "3      1960-02-03      27.7   13  100\n",
       "4      1960-02-04      27.1   13  100\n",
       "...           ...       ...  ...  ...\n",
       "23109  2023-05-09      31.8   13  100\n",
       "23110  2023-05-10      31.9   13  100\n",
       "23111  2023-05-11      32.7   13  100\n",
       "23112  2023-05-12      29.9   13  100\n",
       "23113  2023-05-13       NaN   13  100\n",
       "\n",
       "[23114 rows x 4 columns]"
      ]
     },
     "execution_count": 40,
     "metadata": {},
     "output_type": "execute_result"
    }
   ],
   "source": [
    "df_inter=pd.DataFrame()\n",
    "df_inter['date']=pd.DataFrame(response.json()['daily']['time'])\n",
    "df_inter['max_temp']=pd.DataFrame(response.json()['daily']['temperature_2m_max'])\n",
    "df_inter['lat']= lat\n",
    "df_inter['lon']= lon\n",
    "df_inter"
   ]
  },
  {
   "cell_type": "code",
   "execution_count": 63,
   "id": "d54a6ba6",
   "metadata": {},
   "outputs": [
    {
     "name": "stderr",
     "output_type": "stream",
     "text": [
      "/var/folders/9z/sjrbpv9j1996t3_4wv3ry65c0000gn/T/ipykernel_60275/203597682.py:3: SettingWithCopyWarning: \n",
      "A value is trying to be set on a copy of a slice from a DataFrame.\n",
      "Try using .loc[row_indexer,col_indexer] = value instead\n",
      "\n",
      "See the caveats in the documentation: https://pandas.pydata.org/pandas-docs/stable/user_guide/indexing.html#returning-a-view-versus-a-copy\n",
      "  df_inter_baseline['date']=pd.to_datetime(df_inter_baseline['date'])\n",
      "/var/folders/9z/sjrbpv9j1996t3_4wv3ry65c0000gn/T/ipykernel_60275/203597682.py:4: SettingWithCopyWarning: \n",
      "A value is trying to be set on a copy of a slice from a DataFrame.\n",
      "Try using .loc[row_indexer,col_indexer] = value instead\n",
      "\n",
      "See the caveats in the documentation: https://pandas.pydata.org/pandas-docs/stable/user_guide/indexing.html#returning-a-view-versus-a-copy\n",
      "  df_inter_baseline['month']=df_inter_baseline['date'].dt.month\n"
     ]
    }
   ],
   "source": [
    "# get the average monthly temp from 1960 to 1990\n",
    "df_inter_baseline=df_inter[df_inter['date']<'1991-01-01']\n",
    "df_inter_baseline['date']=pd.to_datetime(df_inter_baseline['date'])\n",
    "df_inter_baseline['month']=df_inter_baseline['date'].dt.month"
   ]
  },
  {
   "cell_type": "code",
   "execution_count": 70,
   "id": "5acf1b4d",
   "metadata": {
    "scrolled": true
   },
   "outputs": [
    {
     "name": "stderr",
     "output_type": "stream",
     "text": [
      "/var/folders/9z/sjrbpv9j1996t3_4wv3ry65c0000gn/T/ipykernel_60275/3589133783.py:1: FutureWarning: The default value of numeric_only in DataFrameGroupBy.mean is deprecated. In a future version, numeric_only will default to False. Either specify numeric_only or select only columns which should be valid for the function.\n",
      "  df_avg=df_inter_baseline.groupby('month').mean()['max_temp']\n"
     ]
    },
    {
     "data": {
      "text/plain": [
       "month\n",
       "1     28.420623\n",
       "2     29.946918\n",
       "3     31.380333\n",
       "4     32.531613\n",
       "5     31.820499\n",
       "6     31.364086\n",
       "7     31.086160\n",
       "8     30.818418\n",
       "9     30.073011\n",
       "10    28.896878\n",
       "11    28.279785\n",
       "12    27.850572\n",
       "Name: max_temp, dtype: float64"
      ]
     },
     "execution_count": 70,
     "metadata": {},
     "output_type": "execute_result"
    }
   ],
   "source": [
    "df_avg=df_inter_baseline.groupby('month').mean()['max_temp']\n",
    "df_avg"
   ]
  },
  {
   "cell_type": "code",
   "execution_count": null,
   "id": "66b72379",
   "metadata": {},
   "outputs": [],
   "source": [
    "#integration of avg and check delta\n"
   ]
  }
 ],
 "metadata": {
  "kernelspec": {
   "display_name": "Python 3 (ipykernel)",
   "language": "python",
   "name": "python3"
  },
  "language_info": {
   "codemirror_mode": {
    "name": "ipython",
    "version": 3
   },
   "file_extension": ".py",
   "mimetype": "text/x-python",
   "name": "python",
   "nbconvert_exporter": "python",
   "pygments_lexer": "ipython3",
   "version": "3.9.13"
  }
 },
 "nbformat": 4,
 "nbformat_minor": 5
}
